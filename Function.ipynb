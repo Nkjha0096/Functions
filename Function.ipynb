{
  "nbformat": 4,
  "nbformat_minor": 0,
  "metadata": {
    "colab": {
      "provenance": []
    },
    "kernelspec": {
      "name": "python3",
      "display_name": "Python 3"
    },
    "language_info": {
      "name": "python"
    }
  },
  "cells": [
    {
      "cell_type": "markdown",
      "source": [
        "Q1.What is difference between python function and method\n"
      ],
      "metadata": {
        "id": "ychBGmK-YZmT"
      }
    },
    {
      "cell_type": "markdown",
      "source": [
        "#Functions\n",
        "\n"
      ],
      "metadata": {
        "id": "GeImnVv6Vv1g"
      }
    },
    {
      "cell_type": "markdown",
      "source": [],
      "metadata": {
        "id": "2YnYN7ZhZEpL"
      }
    },
    {
      "cell_type": "markdown",
      "source": [],
      "metadata": {
        "id": "Oe2s08DzZFQL"
      }
    },
    {
      "cell_type": "markdown",
      "source": [
        "Q1.What is difference between python function and method\n",
        "\n",
        " ->A method is a special type of function that bound to an object,while function is a standlone block of code."
      ],
      "metadata": {
        "id": "gkbQA16pWsxC"
      }
    },
    {
      "cell_type": "code",
      "source": [],
      "metadata": {
        "id": "DfaJc54FWsKI"
      },
      "execution_count": null,
      "outputs": []
    }
  ]
}